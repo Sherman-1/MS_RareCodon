{
 "cells": [
  {
   "cell_type": "code",
   "execution_count": 3,
   "metadata": {},
   "outputs": [
    {
     "name": "stdout",
     "output_type": "stream",
     "text": [
      " Input genomic fasta file: Scer_SGD.fna\n",
      " Input gff file: Scer_SGD.gff\n",
      "Building structured data...\n"
     ]
    },
    {
     "name": "stderr",
     "output_type": "stream",
     "text": [
      "100%|██████████| 351379/351379 [00:01<00:00, 282639.50it/s]\n"
     ]
    },
    {
     "name": "stdout",
     "output_type": "stream",
     "text": [
      "Adding Supplemental Attribute table...\n",
      "Finding unique attribute keys...\n"
     ]
    },
    {
     "name": "stderr",
     "output_type": "stream",
     "text": [
      "100%|██████████| 351377/351377 [00:01<00:00, 311708.14it/s]\n"
     ]
    },
    {
     "name": "stdout",
     "output_type": "stream",
     "text": [
      "Making attribute table...\n"
     ]
    },
    {
     "name": "stderr",
     "output_type": "stream",
     "text": [
      "100%|██████████| 351377/351377 [00:02<00:00, 118708.58it/s]\n"
     ]
    },
    {
     "name": "stdout",
     "output_type": "stream",
     "text": [
      "date Tue Jan 13 13:06:13 2015\n",
      " Created by Saccharomyces Genome Database (http://www.yeastgenome.org/)\n",
      " Weekly updates of this file are available for download from:\n",
      " http://downloads.yeastgenome.org/curation/chromosomal_feature/saccharomyces_cerevisiae.gff\n",
      "Building structured data...\n"
     ]
    },
    {
     "name": "stderr",
     "output_type": "stream",
     "text": [
      "100%|██████████| 23076/23076 [00:00<00:00, 236653.57it/s]\n"
     ]
    },
    {
     "name": "stdout",
     "output_type": "stream",
     "text": [
      "Adding Supplemental Attribute table...\n",
      "Finding unique attribute keys...\n"
     ]
    },
    {
     "name": "stderr",
     "output_type": "stream",
     "text": [
      "100%|██████████| 23058/23058 [00:00<00:00, 280141.07it/s]\n"
     ]
    },
    {
     "name": "stdout",
     "output_type": "stream",
     "text": [
      "Making attribute table...\n"
     ]
    },
    {
     "name": "stderr",
     "output_type": "stream",
     "text": [
      "100%|██████████| 23058/23058 [00:00<00:00, 81527.79it/s]\n"
     ]
    }
   ],
   "source": [
    "import gff3_parser\n",
    "import polars as pl\n",
    "\n",
    "orfs = pl.from_pandas(gff3_parser.parse_gff3(\"input/mapping_orf_Scer_SGD_noMT.gff\", parse_attributes=True))\n",
    "\n",
    "gff = gff3_parser.parse_gff3(\"input/Scer.gff\", parse_attributes=True)\n",
    "\n",
    "\n",
    "COLUMNS = [[\"seq_id\", \"start\", \"end\", \"strand\", \"phase\", \"attributes\"]]"
   ]
  },
  {
   "cell_type": "code",
   "execution_count": 40,
   "metadata": {},
   "outputs": [],
   "source": [
    "from collections import OrderedDict as OD\n",
    "\n",
    "class Gene:\n",
    "\n",
    "    def __init__(self, ID, chromosome, start, end, multi, sense):\n",
    "\n",
    "        self.ID = ID\n",
    "        self.chromosome = chromosome\n",
    "        self.start = start\n",
    "        self.end = end\n",
    "        self.sense = sense\n",
    "        self.multi = multi\n",
    "        self.aORFs = OD()\n",
    "        self._exons = OD()\n",
    "\n",
    "    def add_ORF(self, key, value):\n",
    "\n",
    "        if type(value) != OD:\n",
    "            raise TypeError('aORF must be an OrderedDict')\n",
    "        \n",
    "        elif key in self.aORFs:\n",
    "            raise KeyError(f'aORF {key} already exists')\n",
    "        \n",
    "        else:\n",
    "            self.aORFs[key] = value\n",
    "\n",
    "    @property\n",
    "    def exons(self):\n",
    "        return self._exons\n",
    "\n",
    "    @exons.setter\n",
    "    def exons(self, value):\n",
    "        if type(value) != OD:\n",
    "            raise TypeError('exon must be an OrderedDict')\n",
    "\n",
    "        self._exons = value\n",
    "        self.sort_exons()\n",
    "\n",
    "    def add_exon(self, key, value):\n",
    "        if type(value) != OD:\n",
    "            raise TypeError('exon must be an OrderedDict')\n",
    "        \n",
    "        elif key in self._exons:\n",
    "            raise KeyError(f'exon {key} already exists')\n",
    "        \n",
    "        else:\n",
    "            self._exons[key] = value\n",
    "            self.sort_exons()\n",
    "\n",
    "    def sort_exons(self):\n",
    "        if self.sense == \"+\":\n",
    "            self._exons = OD(sorted(self._exons.items(), key=lambda x: (x[1]['Start'], x[1]['End'])))\n",
    "        elif self.sense == \"-\":\n",
    "            self._exons = OD(sorted(self._exons.items(), key=lambda x: (x[1]['Start'], x[1]['End']), reverse=True))\n",
    "\n",
    "\n",
    "\n",
    "    def get_exons(self):\n",
    "        return self._exons\n",
    "    \n",
    "\n",
    "    \n",
    "class Orf: \n",
    "\n",
    "    def __init__(self, ID, start, end, gene ):\n",
    "\n",
    "        self.ID = ID\n",
    "        self.start = start\n",
    "        self.end = end\n",
    "        self.gene = gene\n",
    "        self._frame = None\n",
    "        self._ribospike = None\n",
    "\n",
    "    @property\n",
    "    def ribospike(self):\n",
    "        return self._ribospike\n",
    "    \n",
    "    @ribospike.setter\n",
    "    def ribospike(self, value):\n",
    "        if type(value) != int:\n",
    "            raise TypeError('ribospike must be int')\n",
    "        else:\n",
    "            self._ribospike = value\n",
    "            self._frame = self.gene.start + self._ribospike\n",
    "\n",
    "    @property\n",
    "    def frame(self):\n",
    "        return self._frame"
   ]
  },
  {
   "cell_type": "code",
   "execution_count": 41,
   "metadata": {},
   "outputs": [
    {
     "name": "stdout",
     "output_type": "stream",
     "text": [
      "['gene', 'CDS', 'mRNA']\n",
      "OrderedDict([('YNL065W_CDS-1', OrderedDict([('Start', '503724'), ('End', '505484')]))])\n",
      "+\n",
      "['CDS', 'mRNA', 'gene']\n",
      "OrderedDict([('YPR074W-A_CDS-1', OrderedDict([('Start', '695018'), ('End', '695188')]))])\n",
      "+\n",
      "['CDS', 'gene', 'mRNA']\n",
      "OrderedDict([('YGL052W_CDS-1', OrderedDict([('Start', '403437'), ('End', '403742')]))])\n",
      "+\n",
      "['CDS', 'gene', 'mRNA']\n",
      "OrderedDict([('YPL002C_CDS-1', OrderedDict([('Start', '553627'), ('End', '554328')]))])\n",
      "-\n",
      "['gene', 'mRNA', 'CDS']\n",
      "OrderedDict([('YER136W_CDS-1', OrderedDict([('Start', '439616'), ('End', '440971')]))])\n",
      "+\n",
      "['CDS', 'gene', 'mRNA']\n",
      "OrderedDict([('YML087C_CDS-1', OrderedDict([('Start', '94431'), ('End', '95369')]))])\n",
      "-\n",
      "['intron', 'gene', 'CDS', 'mRNA']\n",
      "OrderedDict([('YKL006C-A_CDS-2', OrderedDict([('Start', '430597'), ('End', '430632')])), ('YKL006C-A_CDS-1', OrderedDict([('Start', '430198'), ('End', '430455')]))])\n",
      "-\n",
      "['CDS', 'mRNA', 'gene']\n",
      "OrderedDict([('YGL243W_CDS-1', OrderedDict([('Start', '43307'), ('End', '44509')]))])\n",
      "+\n",
      "['gene', 'CDS', 'mRNA']\n",
      "OrderedDict([('YJL053W_CDS-1', OrderedDict([('Start', '335898'), ('End', '337037')]))])\n",
      "+\n",
      "['gene', 'CDS', 'mRNA']\n",
      "OrderedDict([('YKR050W_CDS-1', OrderedDict([('Start', '527815'), ('End', '530484')]))])\n",
      "+\n",
      "['mRNA', 'gene', 'CDS']\n",
      "OrderedDict([('YMR006C_CDS-1', OrderedDict([('Start', '277561'), ('End', '279681')]))])\n",
      "-\n",
      "['CDS', 'gene', 'mRNA']\n",
      "OrderedDict([('YDR133C_CDS-1', OrderedDict([('Start', '720962'), ('End', '721297')]))])\n",
      "-\n",
      "['transposable_element_gene', 'CDS']\n"
     ]
    },
    {
     "ename": "IndexError",
     "evalue": "list index out of range",
     "output_type": "error",
     "traceback": [
      "\u001b[0;31m---------------------------------------------------------------------------\u001b[0m",
      "\u001b[0;31mIndexError\u001b[0m                                Traceback (most recent call last)",
      "\u001b[0;32m<ipython-input-41-88a112434563>\u001b[0m in \u001b[0;36m<module>\u001b[0;34m\u001b[0m\n\u001b[1;32m     18\u001b[0m \u001b[0;32mfor\u001b[0m \u001b[0mname\u001b[0m\u001b[0;34m,\u001b[0m \u001b[0mdata\u001b[0m \u001b[0;32min\u001b[0m \u001b[0mgrouped\u001b[0m\u001b[0;34m:\u001b[0m\u001b[0;34m\u001b[0m\u001b[0;34m\u001b[0m\u001b[0m\n\u001b[1;32m     19\u001b[0m \u001b[0;34m\u001b[0m\u001b[0m\n\u001b[0;32m---> 20\u001b[0;31m     \u001b[0mgene\u001b[0m \u001b[0;34m=\u001b[0m \u001b[0minit_gene_object\u001b[0m\u001b[0;34m(\u001b[0m\u001b[0mname\u001b[0m\u001b[0;34m,\u001b[0m \u001b[0mgff\u001b[0m\u001b[0;34m)\u001b[0m\u001b[0;34m\u001b[0m\u001b[0;34m\u001b[0m\u001b[0m\n\u001b[0m\u001b[1;32m     21\u001b[0m \u001b[0;34m\u001b[0m\u001b[0m\n\u001b[1;32m     22\u001b[0m     \u001b[0;32mif\u001b[0m \u001b[0mgene\u001b[0m\u001b[0;34m:\u001b[0m\u001b[0;34m\u001b[0m\u001b[0;34m\u001b[0m\u001b[0m\n",
      "\u001b[0;32m<ipython-input-35-65b56bb3c5bb>\u001b[0m in \u001b[0;36minit_gene_object\u001b[0;34m(gene_id, gff_dataframe)\u001b[0m\n\u001b[1;32m     64\u001b[0m \u001b[0;34m\u001b[0m\u001b[0m\n\u001b[1;32m     65\u001b[0m     exons = gene_rows.filter(\n\u001b[0;32m---> 66\u001b[0;31m         \u001b[0;34m(\u001b[0m\u001b[0mpl\u001b[0m\u001b[0;34m.\u001b[0m\u001b[0mcol\u001b[0m\u001b[0;34m(\u001b[0m\u001b[0;34m\"Type\"\u001b[0m\u001b[0;34m)\u001b[0m \u001b[0;34m==\u001b[0m \u001b[0;34m\"exon\"\u001b[0m\u001b[0;34m)\u001b[0m \u001b[0;34m&\u001b[0m \u001b[0;34m(\u001b[0m\u001b[0mpl\u001b[0m\u001b[0;34m.\u001b[0m\u001b[0mcol\u001b[0m\u001b[0;34m(\u001b[0m\u001b[0;34m\"Parent\"\u001b[0m\u001b[0;34m)\u001b[0m \u001b[0;34m==\u001b[0m \u001b[0mmRNAs\u001b[0m\u001b[0;34m[\u001b[0m\u001b[0;34m\"ID\"\u001b[0m\u001b[0;34m]\u001b[0m\u001b[0;34m.\u001b[0m\u001b[0mto_list\u001b[0m\u001b[0;34m(\u001b[0m\u001b[0;34m)\u001b[0m\u001b[0;34m[\u001b[0m\u001b[0;36m0\u001b[0m\u001b[0;34m]\u001b[0m\u001b[0;34m)\u001b[0m\u001b[0;34m\u001b[0m\u001b[0;34m\u001b[0m\u001b[0m\n\u001b[0m\u001b[1;32m     67\u001b[0m     )\n\u001b[1;32m     68\u001b[0m \u001b[0;34m\u001b[0m\u001b[0m\n",
      "\u001b[0;31mIndexError\u001b[0m: list index out of range"
     ]
    }
   ],
   "source": [
    "import re\n",
    "\n",
    "pattern = r'\\b([\\w-]+)_CDS\\b'\n",
    "\n",
    "dframe = (\n",
    "    orfs\n",
    "    .filter(pl.col(\"Type\") == \"nc_ovp_same-CDS\")\n",
    "    .with_columns([\n",
    "        pl.col(\"ID\").apply(lambda value: value.split(\"_\")[3]).alias(\"Phase\"),\n",
    "        pl.col(\"Ovp_with\").apply(lambda value: re.findall(pattern, value)[0] if re.findall(pattern, value) else '').alias(\"Ovp_CDS\")\n",
    "    ])\n",
    ")\n",
    "\n",
    "grouped = dframe.groupby(\"Ovp_CDS\")\n",
    "\n",
    "gene_list = list()\n",
    "\n",
    "for name, data in grouped:\n",
    "\n",
    "    gene = init_gene_object(name, gff)\n",
    "    \n",
    "    if gene:\n",
    "        print(gene.get_exons())\n",
    "        print(gene.sense)\n",
    "        \n",
    "\n",
    "    # for orf in data.iter_rows(named = True):\n",
    "\n",
    "        # print(orf)\n",
    "\n",
    "\n",
    "    "
   ]
  },
  {
   "cell_type": "code",
   "execution_count": 35,
   "metadata": {},
   "outputs": [],
   "source": [
    "import re\n",
    "\n",
    "def get_good_column_names(columns):\n",
    "\n",
    "    import re\n",
    "    from itertools import chain\n",
    "\n",
    "    parent_col = [col for col in columns if re.match(r\"[Pp]arent\", col)]\n",
    "    name_col = [col for col in columns if re.match(r\"[Nn]ame\", col)]\n",
    "\n",
    "    if len(parent_col) == 1 and len(name_col) == 1:\n",
    "\n",
    "        return str(parent_col[0]), str(name_col[0])\n",
    "    \n",
    "    else:\n",
    "\n",
    "        raise AttributeError(\"Problem with GFF columns : Parent or Name not found. See get_good_column_names()\")\n",
    "        \n",
    "\n",
    "\n",
    "def init_gene_object(gene_id, gff_dataframe):\n",
    "\n",
    "    import warnings\n",
    "\n",
    "    \"\"\"\n",
    "    \n",
    "    On veut pour la gene_id donnée initiliaser un objet Gene avec ses attributs\n",
    "    tirés du gff_dataframe.\n",
    "    \n",
    "    \"\"\"\n",
    "\n",
    "    pattern = fr\".*{gene_id}.*\"\n",
    "\n",
    "    parent, name = get_good_column_names(gff_dataframe.columns)\n",
    "\n",
    "    gene_rows = pl.from_pandas(gff_dataframe[\n",
    "        gff_dataframe[parent].str.contains(pattern, regex=True, na=False) |\n",
    "        gff_dataframe[name].str.contains(pattern, regex=True, na=False)\n",
    "    ])\n",
    "\n",
    "\n",
    "    types = gene_rows[\"Type\"].unique().to_list()\n",
    "\n",
    "    if (\"exon\" not in types) and (\"CDS\" not in types):\n",
    "\n",
    "        raise AttributeError(f\"Problem with gene feature type in GFF : exon or CDS not found. See {gene_id}\")\n",
    "\n",
    "    mRNAs = gene_rows.filter(pl.col(\"Type\") == \"mRNA\")\n",
    "    mRNAs = (\n",
    "        mRNAs\n",
    "        .with_columns(pl.col('Start').cast(int).alias('Start'),\n",
    "                    pl.col('End').cast(int).alias('End'))\n",
    "        .with_columns((pl.col('End') - pl.col('Start')).alias('Length'))\n",
    "        .sort('Length', descending=True)\n",
    "\n",
    "    ).head(1)\n",
    "\n",
    "    # Once we have the longest mRNA, we can get the exons and CDSs\n",
    "\n",
    "    exons = gene_rows.filter(\n",
    "        (pl.col(\"Type\") == \"exon\") & (pl.col(\"Parent\") == mRNAs[\"ID\"].to_list()[0])\n",
    "    )\n",
    "\n",
    "    cdss = gene_rows.filter(\n",
    "        (pl.col(\"Type\") == \"CDS\") & (pl.col(\"Parent\") == mRNAs[\"ID\"].to_list()[0])\n",
    "    )\n",
    "\n",
    "    \n",
    "    if exons[\"ID\"].len() > cdss[\"ID\"].len():\n",
    "    \n",
    "        warnings.warn(f\"Number of exons and CDS for gene {gene_id} does not match\\nExons will be used for exon number computation\")\n",
    "\n",
    "    if gene_rows[\"Seqid\"].unique().len() != 1:\n",
    "\n",
    "        raise AttributeError(f\"Problem for gene {gene_id} : chromosome is not unique\")\n",
    "\n",
    "    multi = [ False if cdss[\"ID\"].len() == 1 else True ]\n",
    "\n",
    "\n",
    "    gene = Gene(\n",
    "\n",
    "        ID = gene_id,\n",
    "        chromosome = gene_rows[\"Seqid\"].unique().to_list()[0],\n",
    "        start = gene_rows.filter(pl.col(\"Type\") == \"gene\")[\"Start\"].to_list()[0],\n",
    "        end = gene_rows.filter(pl.col(\"Type\") == \"gene\")[\"End\"].to_list()[0],\n",
    "        multi = multi,\n",
    "        sense = gene_rows.filter(pl.col(\"Type\") == \"gene\")[\"Strand\"].to_list()[0]\n",
    "        \n",
    "    )\n",
    "\n",
    "    cds_counter = 1\n",
    "    for exon in cdss.iter_rows(named = True):\n",
    "\n",
    "        key = f'{exon[\"ID\"]}-{cds_counter}' if exon[\"ID\"] else f'{exon[\"Name\"]}-{cds_counter}'\n",
    "        \n",
    "        gene.add_exon(\n",
    "            key = key,\n",
    "            value = OD(\n",
    "                [\n",
    "                    (\"Start\", exon[\"Start\"]),\n",
    "                    (\"End\", exon[\"End\"]),\n",
    "                    \n",
    "                ]\n",
    "            )\n",
    "        )\n",
    "\n",
    "        cds_counter = cds_counter + 1\n",
    "\n",
    "\n",
    "\n",
    "    return gene\n",
    "\n",
    "\n",
    "\n",
    "    \n",
    "\n",
    "\n",
    "\n"
   ]
  },
  {
   "cell_type": "code",
   "execution_count": 53,
   "metadata": {},
   "outputs": [
    {
     "name": "stdout",
     "output_type": "stream",
     "text": [
      "OrderedDict([('a', 1), ('b', 2)])\n",
      "OrderedDict([('b', 2), ('a', 1)])\n"
     ]
    }
   ],
   "source": [
    "\n",
    "# Your ordered dict\n",
    "a = OD([(\"a\", 1), (\"b\", 2)])\n",
    "\n",
    "print(a)\n",
    "\n",
    "# Sort by keys in reverse order\n",
    "a = OD(sorted(a.items(), key=lambda x: x[0], reverse=True))\n",
    "\n",
    "print(a)"
   ]
  }
 ],
 "metadata": {
  "kernelspec": {
   "display_name": "Python 3",
   "language": "python",
   "name": "python3"
  },
  "language_info": {
   "codemirror_mode": {
    "name": "ipython",
    "version": 3
   },
   "file_extension": ".py",
   "mimetype": "text/x-python",
   "name": "python",
   "nbconvert_exporter": "python",
   "pygments_lexer": "ipython3",
   "version": "3.8.10"
  },
  "orig_nbformat": 4
 },
 "nbformat": 4,
 "nbformat_minor": 2
}
