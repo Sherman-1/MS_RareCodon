{
 "cells": [
  {
   "cell_type": "code",
   "execution_count": 31,
   "metadata": {},
   "outputs": [
    {
     "name": "stdout",
     "output_type": "stream",
     "text": [
      "\r"
     ]
    }
   ],
   "source": [
    "import polars as pl \n",
    "\n",
    "\n",
    "data = pl.read_csv(\"output/output.csv\", infer_schema_length = 10000)\n",
    "\n",
    "upstream = data[\"upstream\"]\n",
    "\n",
    "def get_kmers(seq):\n",
    "\n",
    "    # Apply function to create full seq in order to compute kmers"
   ]
  }
 ],
 "metadata": {
  "kernelspec": {
   "display_name": "Python 3",
   "language": "python",
   "name": "python3"
  },
  "language_info": {
   "codemirror_mode": {
    "name": "ipython",
    "version": 3
   },
   "file_extension": ".py",
   "mimetype": "text/x-python",
   "name": "python",
   "nbconvert_exporter": "python",
   "pygments_lexer": "ipython3",
   "version": "3.8.10"
  },
  "orig_nbformat": 4
 },
 "nbformat": 4,
 "nbformat_minor": 2
}
