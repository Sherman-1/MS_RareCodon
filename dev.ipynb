{
 "cells": [
  {
   "cell_type": "code",
   "execution_count": 1,
   "metadata": {},
   "outputs": [
    {
     "name": "stdout",
     "output_type": "stream",
     "text": [
      " Input genomic fasta file: Scer_SGD.fna\n",
      " Input gff file: Scer_SGD.gff\n",
      "Building structured data...\n"
     ]
    },
    {
     "name": "stderr",
     "output_type": "stream",
     "text": [
      "100%|██████████| 351379/351379 [00:01<00:00, 260564.78it/s]\n"
     ]
    },
    {
     "name": "stdout",
     "output_type": "stream",
     "text": [
      "Adding Supplemental Attribute table...\n",
      "Finding unique attribute keys...\n"
     ]
    },
    {
     "name": "stderr",
     "output_type": "stream",
     "text": [
      "100%|██████████| 351377/351377 [00:01<00:00, 297786.79it/s]\n"
     ]
    },
    {
     "name": "stdout",
     "output_type": "stream",
     "text": [
      "Making attribute table...\n"
     ]
    },
    {
     "name": "stderr",
     "output_type": "stream",
     "text": [
      "100%|██████████| 351377/351377 [00:03<00:00, 115061.36it/s]\n"
     ]
    },
    {
     "name": "stdout",
     "output_type": "stream",
     "text": [
      "date Tue Jan 13 13:06:13 2015\n",
      " Created by Saccharomyces Genome Database (http://www.yeastgenome.org/)\n",
      " Weekly updates of this file are available for download from:\n",
      " http://downloads.yeastgenome.org/curation/chromosomal_feature/saccharomyces_cerevisiae.gff\n",
      "Building structured data...\n"
     ]
    },
    {
     "name": "stderr",
     "output_type": "stream",
     "text": [
      "100%|██████████| 23076/23076 [00:00<00:00, 223505.60it/s]\n"
     ]
    },
    {
     "name": "stdout",
     "output_type": "stream",
     "text": [
      "Adding Supplemental Attribute table...\n",
      "Finding unique attribute keys...\n"
     ]
    },
    {
     "name": "stderr",
     "output_type": "stream",
     "text": [
      "100%|██████████| 23058/23058 [00:00<00:00, 216074.78it/s]\n"
     ]
    },
    {
     "name": "stdout",
     "output_type": "stream",
     "text": [
      "Making attribute table...\n"
     ]
    },
    {
     "name": "stderr",
     "output_type": "stream",
     "text": [
      "100%|██████████| 23058/23058 [00:00<00:00, 84300.97it/s]\n"
     ]
    }
   ],
   "source": [
    "import gff3_parser\n",
    "import polars as pl\n",
    "from Bio import SeqIO\n",
    "from Bio.Seq import Seq\n",
    "from Bio.SeqRecord import SeqRecord\n",
    "\n",
    "orfs = pl.from_pandas(gff3_parser.parse_gff3(\"input/mapping_orf_Scer_SGD_noMT.gff\", parse_attributes=True))\n",
    "\n",
    "GFF = gff3_parser.parse_gff3(\"input/Scer.gff\", parse_attributes=True)\n",
    "\n",
    "FASTA = list(SeqIO.parse(\"input/Scer.fna\", \"fasta\"))\n",
    "\n",
    "\n",
    "COLUMNS = [[\"seq_id\", \"start\", \"end\", \"strand\", \"phase\", \"attributes\"]]"
   ]
  },
  {
   "cell_type": "code",
   "execution_count": 6,
   "metadata": {},
   "outputs": [],
   "source": [
    "from collections import OrderedDict as OD\n",
    "import polars as pl\n",
    "import warnings\n",
    "import re\n",
    "\n",
    "GFF_POLARS = pl.from_pandas(GFF)\n",
    "\n",
    "ORF_DF_COLUMNS = ['Seqid',\n",
    " 'Source',\n",
    " 'Type',\n",
    " 'Start',\n",
    " 'End',\n",
    " 'Score',\n",
    " 'Strand',\n",
    " 'Phase',\n",
    " 'Status',\n",
    " 'color',\n",
    " 'Parent',\n",
    " 'ID',\n",
    " 'Ovp_with',\n",
    " 'Ovp_gene']\n",
    "\n",
    "\n",
    "class GenomicFeature:\n",
    "\n",
    "    def __init__(self, ID, start, end, gene=None):\n",
    "        self.ID = ID\n",
    "        self.start = start\n",
    "        self.end = end\n",
    "        self.gene = gene\n",
    "        self.counter = 0\n",
    "\n",
    "\n",
    "\n",
    "class Gene(GenomicFeature):\n",
    "\n",
    "    counter = 0\n",
    "\n",
    "    def __init__(self, ID, chromosome, start, end, multi, sense, frame):\n",
    "        super().__init__(ID, start, end)\n",
    "        self.chromosome = chromosome\n",
    "        self.frame = frame\n",
    "        self.sense = sense\n",
    "        self.multi = multi\n",
    "        self.aORFs = OD()\n",
    "        self._exons = OD()\n",
    "        Gene.counter += 1\n",
    "        \n",
    "\n",
    "    @property\n",
    "    def exons(self):\n",
    "        return self._exons\n",
    "\n",
    "    @exons.setter\n",
    "    def exons(self, value):\n",
    "    \n",
    "        self._exons = value\n",
    "\n",
    "    def add_exon(self, key, value):\n",
    "        \n",
    "        if key in self._exons:\n",
    "            raise KeyError(f'exon {key} already exists')\n",
    "\n",
    "        elif type(value) != list:\n",
    "\n",
    "            raise TypeError('exon must be a list')\n",
    "        \n",
    "        else:\n",
    "            if self.sense == \"+\":\n",
    "                self._exons[key] = value\n",
    "\n",
    "            elif self.sense == \"-\":\n",
    "                self._exons[key] = value[::-1]\n",
    "\n",
    "    def add_orf(self, key, value):\n",
    "\n",
    "        if type(value) != Orf:\n",
    "            raise TypeError('value must be Orf')\n",
    "\n",
    "        elif key in self.aORFs:\n",
    "            raise KeyError(f'orf {key} already exists')\n",
    "        else:\n",
    "            self.aORFs[key] = value\n",
    "\n",
    "    \n",
    "    def sort_exons(self):\n",
    "\n",
    "        if self.sense == \"+\":\n",
    "            self.exons = OD(sorted(self.exons.items(), key=lambda x: x[1][0]))\n",
    "\n",
    "        elif self.sense == \"-\":\n",
    "            self.exons = OD(sorted(self.exons.items(), key=lambda x: x[1][0], reverse=True))\n",
    "\n",
    "class Exon(GenomicFeature):\n",
    "\n",
    "    def __init__(self, ID, gene, start, end, abs_frame):\n",
    "        super().__init__(ID, start, end, gene)\n",
    "        self.abs_frame = abs_frame\n",
    " \n",
    "class Orf(GenomicFeature):\n",
    "\n",
    "    def __init__(self, ID, start, end, gene):\n",
    "        super().__init__(ID, start, end, gene)\n",
    "        self._ribospike = None\n",
    "        self._ribostart = None\n",
    "        self._frame = None\n",
    "\n",
    "    @property\n",
    "    def ribospike(self):\n",
    "        return self._ribospike\n",
    "    \n",
    "    @ribospike.setter\n",
    "    def ribospike(self, value):\n",
    "        if type(value) != int:\n",
    "            raise TypeError('ribospike must be int')\n",
    "        else:\n",
    "            self._ribospike = value\n",
    "            self._ribostart = self.start + self._ribospike\n",
    "            \n",
    "    @property\n",
    "    def frame(self):\n",
    "        return self._frame\n",
    "    \n",
    "    def get_ribodata(self):\n",
    "\n",
    "        pass\n",
    "\n",
    "    \n",
    "class GeneStructureError(Exception):\n",
    "    def __init__(self, message):\n",
    "        self.message = message\n",
    "        super().__init__(self.message)\n",
    "\n",
    "\n",
    "def get_good_column_names(columns):\n",
    "\n",
    "    import re\n",
    "    from itertools import chain\n",
    "\n",
    "    parent_col = [col for col in columns if re.match(r\"[Pp]arent\", col)]\n",
    "    name_col = [col for col in columns if re.match(r\"[Nn]ame\", col)]\n",
    "\n",
    "    if len(parent_col) == 1 and len(name_col) == 1:\n",
    "\n",
    "        return str(parent_col[0]), str(name_col[0])\n",
    "    \n",
    "    else:\n",
    "\n",
    "        raise AttributeError(\"Problem with GFF columns : Parent or Name not found. See get_good_column_names()\")\n",
    "        \n",
    "def return_gene_infos(gene_infos, all_exons = True) -> dict:\n",
    "\n",
    "    chromosome = gene_infos[\"Seqid\"].unique().to_list()[0],\n",
    "    start = gene_infos.filter(pl.col(\"Type\") == \"gene\")[\"Start\"].to_list()[0],\n",
    "    end = gene_infos.filter(pl.col(\"Type\") == \"gene\")[\"End\"].to_list()[0],\n",
    "    sense = gene_infos.filter(pl.col(\"Type\") == \"gene\")[\"Strand\"].to_list()[0]\n",
    "    multi = gene_infos[\"Type\"].to_list().count(\"CDS\") > 1\n",
    "\n",
    "\n",
    "    return {\n",
    "\n",
    "        \"chromosome\" : chromosome,\n",
    "        \"start\" : start,\n",
    "        \"end\" : end,\n",
    "        \"sense\" : sense,\n",
    "        \"multi\" : multi\n",
    "    } \n",
    "\n",
    "def init_gene_object(gene_id, gff_dataframe):\n",
    "\n",
    "\n",
    "    \"\"\"\n",
    "    \n",
    "    On veut pour la gene_id donnée initiliaser un objet Gene avec ses attributs\n",
    "    tirés du gff_dataframe.\n",
    "    \n",
    "    \"\"\"\n",
    "\n",
    "    pattern = fr\".*{gene_id}.*\"\n",
    "\n",
    "    parent, name = get_good_column_names(gff_dataframe.columns)\n",
    "\n",
    "    # Polars does not support regex filtering : pandas is used instead\n",
    "    gene_rows = pl.from_pandas(gff_dataframe[\n",
    "        gff_dataframe[parent].str.contains(pattern, regex=True, na=False) |\n",
    "        gff_dataframe[name].str.contains(pattern, regex=True, na=False)\n",
    "    ]) # Get all rows related to the gene being initialized\n",
    "\n",
    "\n",
    "    \n",
    "    gene_infos = return_gene_infos(gene_rows)\n",
    "\n",
    "\n",
    "    gene = Gene(\n",
    "\n",
    "        ID = gene_id,\n",
    "        chromosome = gene_infos[\"chromosome\"],\n",
    "        start = gene_infos[\"start\"],\n",
    "        end = gene_infos[\"end\"],\n",
    "        sense = gene_infos[\"sense\"],\n",
    "        multi = gene_infos[\"multi\"],\n",
    "        frame = gene_infos[\"start\"] % 3\n",
    "        \n",
    "    )\n",
    "    \n",
    "\n",
    "    cds_counter = 1\n",
    "    for exon in gene_rows.filter(pl.col(\"Type\") == \"CDS\").iter_rows(named = True):\n",
    "\n",
    "        key = f'{exon[\"ID\"]}-{cds_counter}' if exon[\"ID\"] else f'{exon[\"Name\"]}-{cds_counter}'\n",
    "        \n",
    "        gene.add_exon(\n",
    "            key = key,\n",
    "            value = [exon[\"Start\"], exon[\"End\"]]\n",
    "        )\n",
    "\n",
    "        cds_counter = cds_counter + 1\n",
    "\n",
    "    gene.sort_exons()\n",
    "\n",
    "    return gene\n",
    "\n",
    "def check_double_overlap(row : tuple):\n",
    "\n",
    "    orf = dict(zip(ORF_DF_COLUMNS, row))\n",
    "    \n",
    "    overlaps = [match for item in orf[\"Ovp_with\"].split(\"|\") for match in re.findall(r\"\\b([\\w-]+)_mRNA\\b\", item)]\n",
    "\n",
    "    if len(overlaps) == 0:\n",
    "\n",
    "        overlaps = [match for item in orf[\"Ovp_with\"].split(\"|\") for match in re.findall(r\"\\b([\\w-]+)_CDS\\b\", item)]\n",
    "    \n",
    "    buffer = []\n",
    "\n",
    "    if len(overlaps) != 1:\n",
    "\n",
    "        for overlap in overlaps:\n",
    "\n",
    "            \n",
    "            if GFF_POLARS.filter(\n",
    "                \n",
    "                (pl.col(\"ID\") == overlap)\n",
    "                )[\"Strand\"].unique().to_list()[0] == orf[\"Strand\"]:\n",
    "\n",
    "                buffer.append(overlap)\n",
    "                \n",
    "\n",
    "        if len(buffer) == 1: # Several genes are overlapped by the ORF, but only one is on the same strand\n",
    "\n",
    "            orf[\"Ovp_gene\"] = buffer[0]\n",
    "            return tuple(orf.values())\n",
    "        \n",
    "    \n",
    "        elif len(buffer) == 0: # No gene found on the same strand as the ORF\n",
    "\n",
    "            orf[\"Ovp_gene\"] = \"NA\"\n",
    "            return tuple(orf.values())\n",
    "        \n",
    "        else: # Several genes found on the same strand as the ORF\n",
    "\n",
    "            orf[\"Ovp_gene\"] = \"Two_or_more_genes\"\n",
    "            return tuple(orf.values())\n",
    "\n",
    "\n",
    "    else: # If there is only one gene found in the overlapping information given by ORFMine ID\n",
    "\n",
    "        orf[\"Ovp_gene\"] = overlaps[0]\n",
    "        return tuple(orf.values())\n",
    "\n"
   ]
  },
  {
   "cell_type": "code",
   "execution_count": 8,
   "metadata": {},
   "outputs": [
    {
     "data": {
      "text/plain": [
       "True"
      ]
     },
     "execution_count": 8,
     "metadata": {},
     "output_type": "execute_result"
    }
   ],
   "source": [
    "\n"
   ]
  },
  {
   "attachments": {},
   "cell_type": "markdown",
   "metadata": {},
   "source": [
    "Décider de la structure de de chaque ORF/Exon + de la structure qui les contient \n",
    "Comment implémenter ?\n"
   ]
  },
  {
   "cell_type": "code",
   "execution_count": 3,
   "metadata": {},
   "outputs": [],
   "source": [
    "pattern = r'\\b([\\w-]+)_CDS\\b'\n",
    "\n",
    "same_CDS_dframe = (\n",
    "    orfs\n",
    "    .filter(pl.col(\"Type\") == \"nc_ovp_same-CDS\")\n",
    "    .with_columns([\n",
    "        pl.col(\"ID\").apply(lambda value: value.split(\"_\")[3]).alias(\"Phase\"), # Extract absolute strand phase from the ID generated by ORFMine\n",
    "        pl.lit(\"NA\").alias(\"Ovp_gene\") # Create a column for the gene ID that will be filled by check_double_overlap()\n",
    "    ])\n",
    ")\n",
    "\n",
    "\n",
    "same_CDS_dframe = same_CDS_dframe.select(ORF_DF_COLUMNS).apply(check_double_overlap) # Use .apply() method to leverage parallelization\n",
    "\n",
    "same_CDS_dframe.columns = ORF_DF_COLUMNS\n",
    "\n",
    "grouped = same_CDS_dframe.groupby(\"Ovp_gene\")\n",
    "\n",
    "\n",
    "\n"
   ]
  },
  {
   "cell_type": "code",
   "execution_count": 7,
   "metadata": {},
   "outputs": [
    {
     "ename": "KeyboardInterrupt",
     "evalue": "",
     "output_type": "error",
     "traceback": [
      "\u001b[0;31m---------------------------------------------------------------------------\u001b[0m",
      "\u001b[0;31mKeyboardInterrupt\u001b[0m                         Traceback (most recent call last)",
      "\u001b[0;32m<ipython-input-7-60510c584ede>\u001b[0m in \u001b[0;36m<module>\u001b[0;34m\u001b[0m\n\u001b[1;32m      5\u001b[0m     \u001b[0;32mif\u001b[0m \u001b[0;34m\"gene\"\u001b[0m \u001b[0;32min\u001b[0m \u001b[0mGFF_POLARS\u001b[0m\u001b[0;34m.\u001b[0m\u001b[0mfilter\u001b[0m\u001b[0;34m(\u001b[0m\u001b[0mpl\u001b[0m\u001b[0;34m.\u001b[0m\u001b[0mcol\u001b[0m\u001b[0;34m(\u001b[0m\u001b[0;34m\"ID\"\u001b[0m\u001b[0;34m)\u001b[0m \u001b[0;34m==\u001b[0m \u001b[0moverlapped_feature_name\u001b[0m\u001b[0;34m)\u001b[0m\u001b[0;34m[\u001b[0m\u001b[0;34m\"Type\"\u001b[0m\u001b[0;34m]\u001b[0m\u001b[0;34m.\u001b[0m\u001b[0munique\u001b[0m\u001b[0;34m(\u001b[0m\u001b[0;34m)\u001b[0m\u001b[0;34m.\u001b[0m\u001b[0mto_list\u001b[0m\u001b[0;34m(\u001b[0m\u001b[0;34m)\u001b[0m\u001b[0;34m:\u001b[0m \u001b[0;31m# If overlapped feature is not a gene ( = transposable for example ) it's not stored\u001b[0m\u001b[0;34m\u001b[0m\u001b[0;34m\u001b[0m\u001b[0m\n\u001b[1;32m      6\u001b[0m \u001b[0;34m\u001b[0m\u001b[0m\n\u001b[0;32m----> 7\u001b[0;31m         \u001b[0mgene\u001b[0m \u001b[0;34m=\u001b[0m \u001b[0minit_gene_object\u001b[0m\u001b[0;34m(\u001b[0m\u001b[0moverlapped_feature_name\u001b[0m\u001b[0;34m,\u001b[0m \u001b[0mGFF\u001b[0m\u001b[0;34m)\u001b[0m\u001b[0;34m\u001b[0m\u001b[0;34m\u001b[0m\u001b[0m\n\u001b[0m\u001b[1;32m      8\u001b[0m \u001b[0;34m\u001b[0m\u001b[0m\n\u001b[1;32m      9\u001b[0m \u001b[0;34m\u001b[0m\u001b[0m\n",
      "\u001b[0;32m<ipython-input-6-64acf3f57126>\u001b[0m in \u001b[0;36minit_gene_object\u001b[0;34m(gene_id, gff_dataframe)\u001b[0m\n\u001b[1;32m    193\u001b[0m     gene_rows = pl.from_pandas(gff_dataframe[\n\u001b[1;32m    194\u001b[0m         \u001b[0mgff_dataframe\u001b[0m\u001b[0;34m[\u001b[0m\u001b[0mparent\u001b[0m\u001b[0;34m]\u001b[0m\u001b[0;34m.\u001b[0m\u001b[0mstr\u001b[0m\u001b[0;34m.\u001b[0m\u001b[0mcontains\u001b[0m\u001b[0;34m(\u001b[0m\u001b[0mpattern\u001b[0m\u001b[0;34m,\u001b[0m \u001b[0mregex\u001b[0m\u001b[0;34m=\u001b[0m\u001b[0;32mTrue\u001b[0m\u001b[0;34m,\u001b[0m \u001b[0mna\u001b[0m\u001b[0;34m=\u001b[0m\u001b[0;32mFalse\u001b[0m\u001b[0;34m)\u001b[0m \u001b[0;34m|\u001b[0m\u001b[0;34m\u001b[0m\u001b[0;34m\u001b[0m\u001b[0m\n\u001b[0;32m--> 195\u001b[0;31m         \u001b[0mgff_dataframe\u001b[0m\u001b[0;34m[\u001b[0m\u001b[0mname\u001b[0m\u001b[0;34m]\u001b[0m\u001b[0;34m.\u001b[0m\u001b[0mstr\u001b[0m\u001b[0;34m.\u001b[0m\u001b[0mcontains\u001b[0m\u001b[0;34m(\u001b[0m\u001b[0mpattern\u001b[0m\u001b[0;34m,\u001b[0m \u001b[0mregex\u001b[0m\u001b[0;34m=\u001b[0m\u001b[0;32mTrue\u001b[0m\u001b[0;34m,\u001b[0m \u001b[0mna\u001b[0m\u001b[0;34m=\u001b[0m\u001b[0;32mFalse\u001b[0m\u001b[0;34m)\u001b[0m\u001b[0;34m\u001b[0m\u001b[0;34m\u001b[0m\u001b[0m\n\u001b[0m\u001b[1;32m    196\u001b[0m     ]) # Get all rows related to the gene being initialized\n\u001b[1;32m    197\u001b[0m \u001b[0;34m\u001b[0m\u001b[0m\n",
      "\u001b[0;32m~/.local/lib/python3.8/site-packages/pandas/core/strings/accessor.py\u001b[0m in \u001b[0;36mwrapper\u001b[0;34m(self, *args, **kwargs)\u001b[0m\n\u001b[1;32m    127\u001b[0m                 )\n\u001b[1;32m    128\u001b[0m                 \u001b[0;32mraise\u001b[0m \u001b[0mTypeError\u001b[0m\u001b[0;34m(\u001b[0m\u001b[0mmsg\u001b[0m\u001b[0;34m)\u001b[0m\u001b[0;34m\u001b[0m\u001b[0;34m\u001b[0m\u001b[0m\n\u001b[0;32m--> 129\u001b[0;31m             \u001b[0;32mreturn\u001b[0m \u001b[0mfunc\u001b[0m\u001b[0;34m(\u001b[0m\u001b[0mself\u001b[0m\u001b[0;34m,\u001b[0m \u001b[0;34m*\u001b[0m\u001b[0margs\u001b[0m\u001b[0;34m,\u001b[0m \u001b[0;34m**\u001b[0m\u001b[0mkwargs\u001b[0m\u001b[0;34m)\u001b[0m\u001b[0;34m\u001b[0m\u001b[0;34m\u001b[0m\u001b[0m\n\u001b[0m\u001b[1;32m    130\u001b[0m \u001b[0;34m\u001b[0m\u001b[0m\n\u001b[1;32m    131\u001b[0m         \u001b[0mwrapper\u001b[0m\u001b[0;34m.\u001b[0m\u001b[0m__name__\u001b[0m \u001b[0;34m=\u001b[0m \u001b[0mfunc_name\u001b[0m\u001b[0;34m\u001b[0m\u001b[0;34m\u001b[0m\u001b[0m\n",
      "\u001b[0;32m~/.local/lib/python3.8/site-packages/pandas/core/strings/accessor.py\u001b[0m in \u001b[0;36mcontains\u001b[0;34m(self, pat, case, flags, na, regex)\u001b[0m\n\u001b[1;32m   1258\u001b[0m             )\n\u001b[1;32m   1259\u001b[0m \u001b[0;34m\u001b[0m\u001b[0m\n\u001b[0;32m-> 1260\u001b[0;31m         \u001b[0mresult\u001b[0m \u001b[0;34m=\u001b[0m \u001b[0mself\u001b[0m\u001b[0;34m.\u001b[0m\u001b[0m_data\u001b[0m\u001b[0;34m.\u001b[0m\u001b[0marray\u001b[0m\u001b[0;34m.\u001b[0m\u001b[0m_str_contains\u001b[0m\u001b[0;34m(\u001b[0m\u001b[0mpat\u001b[0m\u001b[0;34m,\u001b[0m \u001b[0mcase\u001b[0m\u001b[0;34m,\u001b[0m \u001b[0mflags\u001b[0m\u001b[0;34m,\u001b[0m \u001b[0mna\u001b[0m\u001b[0;34m,\u001b[0m \u001b[0mregex\u001b[0m\u001b[0;34m)\u001b[0m\u001b[0;34m\u001b[0m\u001b[0;34m\u001b[0m\u001b[0m\n\u001b[0m\u001b[1;32m   1261\u001b[0m         \u001b[0;32mreturn\u001b[0m \u001b[0mself\u001b[0m\u001b[0;34m.\u001b[0m\u001b[0m_wrap_result\u001b[0m\u001b[0;34m(\u001b[0m\u001b[0mresult\u001b[0m\u001b[0;34m,\u001b[0m \u001b[0mfill_value\u001b[0m\u001b[0;34m=\u001b[0m\u001b[0mna\u001b[0m\u001b[0;34m,\u001b[0m \u001b[0mreturns_string\u001b[0m\u001b[0;34m=\u001b[0m\u001b[0;32mFalse\u001b[0m\u001b[0;34m)\u001b[0m\u001b[0;34m\u001b[0m\u001b[0;34m\u001b[0m\u001b[0m\n\u001b[1;32m   1262\u001b[0m \u001b[0;34m\u001b[0m\u001b[0m\n",
      "\u001b[0;32m~/.local/lib/python3.8/site-packages/pandas/core/strings/object_array.py\u001b[0m in \u001b[0;36m_str_contains\u001b[0;34m(self, pat, case, flags, na, regex)\u001b[0m\n\u001b[1;32m    129\u001b[0m                 \u001b[0mupper_pat\u001b[0m \u001b[0;34m=\u001b[0m \u001b[0mpat\u001b[0m\u001b[0;34m.\u001b[0m\u001b[0mupper\u001b[0m\u001b[0;34m(\u001b[0m\u001b[0;34m)\u001b[0m\u001b[0;34m\u001b[0m\u001b[0;34m\u001b[0m\u001b[0m\n\u001b[1;32m    130\u001b[0m                 \u001b[0mf\u001b[0m \u001b[0;34m=\u001b[0m \u001b[0;32mlambda\u001b[0m \u001b[0mx\u001b[0m\u001b[0;34m:\u001b[0m \u001b[0mupper_pat\u001b[0m \u001b[0;32min\u001b[0m \u001b[0mx\u001b[0m\u001b[0;34m.\u001b[0m\u001b[0mupper\u001b[0m\u001b[0;34m(\u001b[0m\u001b[0;34m)\u001b[0m\u001b[0;34m\u001b[0m\u001b[0;34m\u001b[0m\u001b[0m\n\u001b[0;32m--> 131\u001b[0;31m         \u001b[0;32mreturn\u001b[0m \u001b[0mself\u001b[0m\u001b[0;34m.\u001b[0m\u001b[0m_str_map\u001b[0m\u001b[0;34m(\u001b[0m\u001b[0mf\u001b[0m\u001b[0;34m,\u001b[0m \u001b[0mna\u001b[0m\u001b[0;34m,\u001b[0m \u001b[0mdtype\u001b[0m\u001b[0;34m=\u001b[0m\u001b[0mnp\u001b[0m\u001b[0;34m.\u001b[0m\u001b[0mdtype\u001b[0m\u001b[0;34m(\u001b[0m\u001b[0;34m\"bool\"\u001b[0m\u001b[0;34m)\u001b[0m\u001b[0;34m)\u001b[0m\u001b[0;34m\u001b[0m\u001b[0;34m\u001b[0m\u001b[0m\n\u001b[0m\u001b[1;32m    132\u001b[0m \u001b[0;34m\u001b[0m\u001b[0m\n\u001b[1;32m    133\u001b[0m     \u001b[0;32mdef\u001b[0m \u001b[0m_str_startswith\u001b[0m\u001b[0;34m(\u001b[0m\u001b[0mself\u001b[0m\u001b[0;34m,\u001b[0m \u001b[0mpat\u001b[0m\u001b[0;34m,\u001b[0m \u001b[0mna\u001b[0m\u001b[0;34m=\u001b[0m\u001b[0;32mNone\u001b[0m\u001b[0;34m)\u001b[0m\u001b[0;34m:\u001b[0m\u001b[0;34m\u001b[0m\u001b[0;34m\u001b[0m\u001b[0m\n",
      "\u001b[0;32m~/.local/lib/python3.8/site-packages/pandas/core/strings/object_array.py\u001b[0m in \u001b[0;36m_str_map\u001b[0;34m(self, f, na_value, dtype, convert)\u001b[0m\n\u001b[1;32m     69\u001b[0m         \u001b[0mmap_convert\u001b[0m \u001b[0;34m=\u001b[0m \u001b[0mconvert\u001b[0m \u001b[0;32mand\u001b[0m \u001b[0;32mnot\u001b[0m \u001b[0mnp\u001b[0m\u001b[0;34m.\u001b[0m\u001b[0mall\u001b[0m\u001b[0;34m(\u001b[0m\u001b[0mmask\u001b[0m\u001b[0;34m)\u001b[0m\u001b[0;34m\u001b[0m\u001b[0;34m\u001b[0m\u001b[0m\n\u001b[1;32m     70\u001b[0m         \u001b[0;32mtry\u001b[0m\u001b[0;34m:\u001b[0m\u001b[0;34m\u001b[0m\u001b[0;34m\u001b[0m\u001b[0m\n\u001b[0;32m---> 71\u001b[0;31m             \u001b[0mresult\u001b[0m \u001b[0;34m=\u001b[0m \u001b[0mlib\u001b[0m\u001b[0;34m.\u001b[0m\u001b[0mmap_infer_mask\u001b[0m\u001b[0;34m(\u001b[0m\u001b[0marr\u001b[0m\u001b[0;34m,\u001b[0m \u001b[0mf\u001b[0m\u001b[0;34m,\u001b[0m \u001b[0mmask\u001b[0m\u001b[0;34m.\u001b[0m\u001b[0mview\u001b[0m\u001b[0;34m(\u001b[0m\u001b[0mnp\u001b[0m\u001b[0;34m.\u001b[0m\u001b[0muint8\u001b[0m\u001b[0;34m)\u001b[0m\u001b[0;34m,\u001b[0m \u001b[0mmap_convert\u001b[0m\u001b[0;34m)\u001b[0m\u001b[0;34m\u001b[0m\u001b[0;34m\u001b[0m\u001b[0m\n\u001b[0m\u001b[1;32m     72\u001b[0m         \u001b[0;32mexcept\u001b[0m \u001b[0;34m(\u001b[0m\u001b[0mTypeError\u001b[0m\u001b[0;34m,\u001b[0m \u001b[0mAttributeError\u001b[0m\u001b[0;34m)\u001b[0m \u001b[0;32mas\u001b[0m \u001b[0merr\u001b[0m\u001b[0;34m:\u001b[0m\u001b[0;34m\u001b[0m\u001b[0;34m\u001b[0m\u001b[0m\n\u001b[1;32m     73\u001b[0m             \u001b[0;31m# Reraise the exception if callable `f` got wrong number of args.\u001b[0m\u001b[0;34m\u001b[0m\u001b[0;34m\u001b[0m\u001b[0;34m\u001b[0m\u001b[0m\n",
      "\u001b[0;32m~/.local/lib/python3.8/site-packages/pandas/_libs/lib.pyx\u001b[0m in \u001b[0;36mpandas._libs.lib.map_infer_mask\u001b[0;34m()\u001b[0m\n",
      "\u001b[0;32m~/.local/lib/python3.8/site-packages/pandas/core/strings/object_array.py\u001b[0m in \u001b[0;36m<lambda>\u001b[0;34m(x)\u001b[0m\n\u001b[1;32m    122\u001b[0m             \u001b[0mpat\u001b[0m \u001b[0;34m=\u001b[0m \u001b[0mre\u001b[0m\u001b[0;34m.\u001b[0m\u001b[0mcompile\u001b[0m\u001b[0;34m(\u001b[0m\u001b[0mpat\u001b[0m\u001b[0;34m,\u001b[0m \u001b[0mflags\u001b[0m\u001b[0;34m=\u001b[0m\u001b[0mflags\u001b[0m\u001b[0;34m)\u001b[0m\u001b[0;34m\u001b[0m\u001b[0;34m\u001b[0m\u001b[0m\n\u001b[1;32m    123\u001b[0m \u001b[0;34m\u001b[0m\u001b[0m\n\u001b[0;32m--> 124\u001b[0;31m             \u001b[0mf\u001b[0m \u001b[0;34m=\u001b[0m \u001b[0;32mlambda\u001b[0m \u001b[0mx\u001b[0m\u001b[0;34m:\u001b[0m \u001b[0mpat\u001b[0m\u001b[0;34m.\u001b[0m\u001b[0msearch\u001b[0m\u001b[0;34m(\u001b[0m\u001b[0mx\u001b[0m\u001b[0;34m)\u001b[0m \u001b[0;32mis\u001b[0m \u001b[0;32mnot\u001b[0m \u001b[0;32mNone\u001b[0m\u001b[0;34m\u001b[0m\u001b[0;34m\u001b[0m\u001b[0m\n\u001b[0m\u001b[1;32m    125\u001b[0m         \u001b[0;32melse\u001b[0m\u001b[0;34m:\u001b[0m\u001b[0;34m\u001b[0m\u001b[0;34m\u001b[0m\u001b[0m\n\u001b[1;32m    126\u001b[0m             \u001b[0;32mif\u001b[0m \u001b[0mcase\u001b[0m\u001b[0;34m:\u001b[0m\u001b[0;34m\u001b[0m\u001b[0;34m\u001b[0m\u001b[0m\n",
      "\u001b[0;31mKeyboardInterrupt\u001b[0m: "
     ]
    }
   ],
   "source": [
    "gene_list = list()\n",
    "\n",
    "for overlapped_feature_name , data in grouped: # This loop returns the name by which data is groupped, and the data itself as a polars dataframe\n",
    "\n",
    "    if \"gene\" in GFF_POLARS.filter(pl.col(\"ID\") == overlapped_feature_name)[\"Type\"].unique().to_list(): # If overlapped feature is not a gene ( = transposable for example ) it's not stored\n",
    "\n",
    "        gene = init_gene_object(overlapped_feature_name, GFF)\n",
    "   \n",
    "\n",
    "        for row in data.iter_rows(named = True):\n",
    "\n",
    "            orf = Orf(ID = row[\"ID\"],\n",
    "            start = row[\"Start\"],\n",
    "            end = row[\"End\"],\n",
    "            gene = gene)\n",
    "\n",
    "            gene.add_orf(key = orf.ID, \n",
    "                         value = orf)\n",
    "\n",
    "        gene_list.append(gene)\n",
    "\n"
   ]
  },
  {
   "cell_type": "code",
   "execution_count": 9,
   "metadata": {},
   "outputs": [],
   "source": [
    "from collections import OrderedDict\n",
    "\n",
    "nested_dict = OrderedDict()\n",
    "\n",
    "nested_dict['outer_key1'] = OrderedDict()\n",
    "nested_dict['outer_key1']['inner_key1'] = OrderedDict()\n",
    "nested_dict['outer_key1']['inner_key1']['inner_inner_key1'] = 'value1'\n",
    "nested_dict['outer_key1']['inner_key1']['inner_inner_key2'] = 'value2'\n",
    "\n"
   ]
  },
  {
   "cell_type": "code",
   "execution_count": 12,
   "metadata": {},
   "outputs": [
    {
     "name": "stdout",
     "output_type": "stream",
     "text": [
      "['value1', 'value2', 'value3']\n",
      "['value4', 'value5']\n",
      "['value6']\n"
     ]
    }
   ],
   "source": [
    "from collections import OrderedDict\n",
    "\n",
    "ordered_dict = OrderedDict()\n",
    "\n",
    "ordered_dict['key1'] = ['value1', 'value2', 'value3']\n",
    "ordered_dict['key2'] = ['value4', 'value5']\n",
    "ordered_dict['key3'] = ['value6']\n",
    "\n",
    "for value in ordered_dict.values():\n",
    "\n",
    "    print(value)"
   ]
  }
 ],
 "metadata": {
  "kernelspec": {
   "display_name": "Python 3",
   "language": "python",
   "name": "python3"
  },
  "language_info": {
   "codemirror_mode": {
    "name": "ipython",
    "version": 3
   },
   "file_extension": ".py",
   "mimetype": "text/x-python",
   "name": "python",
   "nbconvert_exporter": "python",
   "pygments_lexer": "ipython3",
   "version": "3.8.10"
  },
  "orig_nbformat": 4
 },
 "nbformat": 4,
 "nbformat_minor": 2
}
